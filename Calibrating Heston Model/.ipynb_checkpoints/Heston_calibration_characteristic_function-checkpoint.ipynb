{
 "cells": [
  {
   "cell_type": "code",
   "execution_count": 1,
   "id": "f2210548",
   "metadata": {
    "tags": []
   },
   "outputs": [
    {
     "data": {
      "text/html": [
       "<pre style=\"white-space:pre;overflow-x:auto;line-height:normal;font-family:Menlo,'DejaVu Sans Mono',consolas,'Courier New',monospace\"><span style=\"color: #808000; text-decoration-color: #808000\">Forecasting Toolkit is disabled. To use the Forecasting features please install the toolkit following the instructions here: https://my.openbb.co/app/sdk/installation</span>\n",
       "\n",
       "</pre>\n"
      ],
      "text/plain": [
       "\u001b[33mForecasting Toolkit is disabled. To use the Forecasting features please install the toolkit following the instructions here: https://my.openbb.co/app/sdk/installation\u001b[0m\n",
       "\n"
      ]
     },
     "metadata": {},
     "output_type": "display_data"
    },
    {
     "data": {
      "text/html": [
       "<pre style=\"white-space:pre;overflow-x:auto;line-height:normal;font-family:Menlo,'DejaVu Sans Mono',consolas,'Courier New',monospace\"><span style=\"color: #808000; text-decoration-color: #808000\">Portfolio Optimization Toolkit is disabled. To use the Optimization features please install the toolkit following the instructions here: https://my.openbb.co/app/sdk/installation</span>\n",
       "\n",
       "</pre>\n"
      ],
      "text/plain": [
       "\u001b[33mPortfolio Optimization Toolkit is disabled. To use the Optimization features please install the toolkit following the instructions here: https://my.openbb.co/app/sdk/installation\u001b[0m\n",
       "\n"
      ]
     },
     "metadata": {},
     "output_type": "display_data"
    }
   ],
   "source": [
    "from openbb_terminal.sdk import openbb\n",
    "import numpy as np\n",
    "import pandas as pd\n",
    "import scipy.stats as stats\n",
    "import yfinance as yf\n",
    "import datetime as dt\n",
    "from scipy.integrate import quad\n",
    "from scipy.optimize import minimize"
   ]
  },
  {
   "cell_type": "markdown",
   "id": "51bf4a22-655f-42a2-9afb-65957d9deb27",
   "metadata": {},
   "source": [
    "Load the option chains for a stock from a source"
   ]
  },
  {
   "cell_type": "code",
   "execution_count": 2,
   "id": "73a27ce4-5164-4cb8-8c3e-1b64ca2ba3c5",
   "metadata": {
    "tags": []
   },
   "outputs": [],
   "source": [
    "option_chain=openbb.stocks.options.load_options_chains('SPY','CBOE')"
   ]
  },
  {
   "cell_type": "markdown",
   "id": "b847ecb2-32a8-4dd4-ac0e-cb0bf91f0f88",
   "metadata": {},
   "source": [
    "Clean up the data frame of the call price and implied volatility. Plot the resulting dataframe"
   ]
  },
  {
   "cell_type": "code",
   "execution_count": 3,
   "id": "a456f9bc-c76d-4056-894d-8c14e64b0b06",
   "metadata": {
    "tags": []
   },
   "outputs": [
    {
     "data": {
      "text/html": [
       "<div>\n",
       "<style scoped>\n",
       "    .dataframe tbody tr th:only-of-type {\n",
       "        vertical-align: middle;\n",
       "    }\n",
       "\n",
       "    .dataframe tbody tr th {\n",
       "        vertical-align: top;\n",
       "    }\n",
       "\n",
       "    .dataframe thead th {\n",
       "        text-align: right;\n",
       "    }\n",
       "</style>\n",
       "<table border=\"1\" class=\"dataframe\">\n",
       "  <thead>\n",
       "    <tr style=\"text-align: right;\">\n",
       "      <th></th>\n",
       "      <th>strike</th>\n",
       "      <th>expiration</th>\n",
       "      <th>impliedVolatility</th>\n",
       "      <th>lastTradePrice</th>\n",
       "    </tr>\n",
       "  </thead>\n",
       "  <tbody>\n",
       "    <tr>\n",
       "      <th>386</th>\n",
       "      <td>454.0</td>\n",
       "      <td>2023-08-01</td>\n",
       "      <td>0.1210</td>\n",
       "      <td>4.00</td>\n",
       "    </tr>\n",
       "    <tr>\n",
       "      <th>388</th>\n",
       "      <td>455.0</td>\n",
       "      <td>2023-08-01</td>\n",
       "      <td>0.1140</td>\n",
       "      <td>3.16</td>\n",
       "    </tr>\n",
       "    <tr>\n",
       "      <th>390</th>\n",
       "      <td>456.0</td>\n",
       "      <td>2023-08-01</td>\n",
       "      <td>0.1124</td>\n",
       "      <td>2.33</td>\n",
       "    </tr>\n",
       "    <tr>\n",
       "      <th>392</th>\n",
       "      <td>457.0</td>\n",
       "      <td>2023-08-01</td>\n",
       "      <td>0.1055</td>\n",
       "      <td>1.54</td>\n",
       "    </tr>\n",
       "    <tr>\n",
       "      <th>394</th>\n",
       "      <td>458.0</td>\n",
       "      <td>2023-08-01</td>\n",
       "      <td>0.1013</td>\n",
       "      <td>0.95</td>\n",
       "    </tr>\n",
       "    <tr>\n",
       "      <th>...</th>\n",
       "      <td>...</td>\n",
       "      <td>...</td>\n",
       "      <td>...</td>\n",
       "      <td>...</td>\n",
       "    </tr>\n",
       "    <tr>\n",
       "      <th>4680</th>\n",
       "      <td>460.0</td>\n",
       "      <td>2023-10-20</td>\n",
       "      <td>0.1226</td>\n",
       "      <td>11.69</td>\n",
       "    </tr>\n",
       "    <tr>\n",
       "      <th>4686</th>\n",
       "      <td>465.0</td>\n",
       "      <td>2023-10-20</td>\n",
       "      <td>0.1165</td>\n",
       "      <td>8.75</td>\n",
       "    </tr>\n",
       "    <tr>\n",
       "      <th>5296</th>\n",
       "      <td>458.0</td>\n",
       "      <td>2023-12-15</td>\n",
       "      <td>0.1355</td>\n",
       "      <td>19.32</td>\n",
       "    </tr>\n",
       "    <tr>\n",
       "      <th>5298</th>\n",
       "      <td>459.0</td>\n",
       "      <td>2023-12-15</td>\n",
       "      <td>0.1344</td>\n",
       "      <td>18.47</td>\n",
       "    </tr>\n",
       "    <tr>\n",
       "      <th>5300</th>\n",
       "      <td>460.0</td>\n",
       "      <td>2023-12-15</td>\n",
       "      <td>0.1333</td>\n",
       "      <td>17.78</td>\n",
       "    </tr>\n",
       "  </tbody>\n",
       "</table>\n",
       "<p>120 rows × 4 columns</p>\n",
       "</div>"
      ],
      "text/plain": [
       "      strike  expiration  impliedVolatility  lastTradePrice\n",
       "386    454.0  2023-08-01             0.1210            4.00\n",
       "388    455.0  2023-08-01             0.1140            3.16\n",
       "390    456.0  2023-08-01             0.1124            2.33\n",
       "392    457.0  2023-08-01             0.1055            1.54\n",
       "394    458.0  2023-08-01             0.1013            0.95\n",
       "...      ...         ...                ...             ...\n",
       "4680   460.0  2023-10-20             0.1226           11.69\n",
       "4686   465.0  2023-10-20             0.1165            8.75\n",
       "5296   458.0  2023-12-15             0.1355           19.32\n",
       "5298   459.0  2023-12-15             0.1344           18.47\n",
       "5300   460.0  2023-12-15             0.1333           17.78\n",
       "\n",
       "[120 rows x 4 columns]"
      ]
     },
     "execution_count": 3,
     "metadata": {},
     "output_type": "execute_result"
    },
    {
     "data": {
      "image/png": "[encoded data removed]",
      "text/plain": [
       "<Figure size 640x480 with 1 Axes>"
      ]
     },
     "metadata": {},
     "output_type": "display_data"
    }
   ],
   "source": [
    "call_df = option_chain.chains[option_chain.chains.optionType=='call']\n",
    "\n",
    "call_df = call_df[(call_df.optionType=='call') & (call_df.volume>1000) & (call_df.strike>option_chain.last_price-10) & (call_df.strike<option_chain.last_price+10)]\n",
    "\n",
    "call_df = call_df[call_df.expiration != option_chain.chains.expiration.values[0]][['strike','expiration','impliedVolatility','lastTradePrice']]\n",
    "\n",
    "call_df.set_index('strike').groupby('expiration').impliedVolatility.plot()\n",
    "\n",
    "call_df\n"
   ]
  },
  {
   "cell_type": "markdown",
   "id": "e1b9092d",
   "metadata": {},
   "source": [
    "# Heston Model:\n",
    "\n",
    "## under risk-neutral measure:\n",
    "$$\n",
    "dS_t= r S_t dt+\\sqrt{v_t}S_t dW_{1,t}^\\mathbb{Q}\n",
    "\\\\\n",
    "dv_t=\\kappa(\\theta-v_t)dt+\\sigma\\sqrt{v_t}dW_{2,t}^\\mathbb{Q}\n",
    "\\\\\n",
    "dW_{1,t}^\\mathbb{Q}dW_{2,t}^\\mathbb{Q}=\\rho dt\n",
    "$$"
   ]
  },
  {
   "cell_type": "markdown",
   "id": "42c6833b",
   "metadata": {},
   "source": [
    "## Call price using Quantpy"
   ]
  },
  {
   "cell_type": "code",
   "execution_count": 4,
   "id": "10d5a1c8",
   "metadata": {
    "tags": []
   },
   "outputs": [],
   "source": [
    "def heston_charfunc_quantpy(phi, S0, v0, kappa, theta, sigma, rho, lambd, tau, r):\n",
    "    \n",
    "    # constants\n",
    "    b = kappa+lambd\n",
    "    a = kappa*theta\n",
    "    \n",
    "    # common terms w.r.t phi\n",
    "    rspi = rho*sigma*phi*1j\n",
    "    \n",
    "    # define d parameter given phi and b\n",
    "    d = np.sqrt( (rho*sigma*phi*1j - b)**2 + (phi*1j+phi**2)*sigma**2 )\n",
    "    \n",
    "    # define g parameter given phi, b and d\n",
    "    g = (b-rspi+d)/(b-rspi-d)\n",
    "    \n",
    "    # calculate characteristic function by components\n",
    "    exp1 = np.exp(r*phi*1j*tau)\n",
    "    term2 = S0**(phi*1j) * ( (1-g*np.exp(d*tau))/(1-g) )**(-2*a/sigma**2)\n",
    "    exp2 = np.exp(a*tau*(b-rspi+d)/sigma**2 + v0*(b-rspi+d)*( (1-np.exp(d*tau))/(1-g*np.exp(d*tau)) )/sigma**2)\n",
    "    return exp1*term2*exp2\n",
    "   \n",
    "def integrand_quantpy(phi, S0, v0, kappa, theta, sigma, rho, lambd, tau, r):\n",
    "    args = (S0, v0, kappa, theta, sigma, rho, lambd, tau, r)\n",
    "    numerator = np.exp(r*tau)*heston_charfunc_quantpy(phi-1j, *args) - K*heston_charfunc_quantpy(phi, *args)\n",
    "    denominator = 1j*phi*K**(1j*phi)\n",
    "    return numerator / denominator\n",
    "\n",
    "def heston_price_quantpy(S0, K, v0, kappa, theta, sigma, rho, lambd, tau, r):\n",
    "    args = (S0, v0, kappa, theta, sigma, rho, lambd, tau, r)\n",
    "    \n",
    "    # Use quadrature for numerical integration with proper bounds\n",
    "    real_integral, err = quad(integrand_quantpy, 0, 100, args=args)\n",
    "    \n",
    "    # Calculate the option price\n",
    "    option_price = (S0 - K*np.exp(-r*tau))/2 + real_integral/np.pi\n",
    "    \n",
    "    return option_price"
   ]
  },
  {
   "cell_type": "code",
   "execution_count": 5,
   "id": "e6c2b971",
   "metadata": {
    "tags": []
   },
   "outputs": [
    {
     "data": {
      "text/plain": [
       "12.422227179891545"
      ]
     },
     "execution_count": 5,
     "metadata": {},
     "output_type": "execute_result"
    }
   ],
   "source": [
    "S0 = 100. # initial asset price\n",
    "K = 100. # strike\n",
    "v0 = 0.1 # initial variance\n",
    "r = 0.03 # risk free rate\n",
    "kappa = 1.5768 # rate of mean reversion of variance process\n",
    "theta = 0.0398 # long-term mean variance\n",
    "sigma = 0.3 # volatility of volatility\n",
    "lambd = 0 # risk premium of variance\n",
    "rho = -0.5711 # correlation between variance and stock process\n",
    "tau = 1. # time to maturity\n",
    "\n",
    "heston_price_quantpy( S0, K, v0, kappa, theta, sigma, rho, lambd, tau, r )"
   ]
  },
  {
   "cell_type": "markdown",
   "id": "afae920d",
   "metadata": {},
   "source": [
    "# Calibration of Heston parameters using call prices"
   ]
  },
  {
   "cell_type": "code",
   "execution_count": 10,
   "id": "be444d41",
   "metadata": {
    "tags": []
   },
   "outputs": [],
   "source": [
    "params = {\"v0\": {\"x0\": 0.1, \"lbub\": [1e-3,0.3]}, \n",
    "          \"kappa\": {\"x0\": 3, \"lbub\": [1e-3,5]},\n",
    "          \"theta\": {\"x0\": 0.1, \"lbub\": [1e-3,0.3]},\n",
    "          \"sigma\": {\"x0\": 0.3, \"lbub\": [1e-2,0.5]},\n",
    "          \"rho\": {\"x0\": -0.8, \"lbub\": [-1,0]}\n",
    "          }\n",
    "\n",
    "x0 = [param[\"x0\"] for key, param in params.items()]\n",
    "bnds = [param[\"lbub\"] for key, param in params.items()]\n",
    "\n",
    "r = 0.054\n",
    "\n",
    "P = call_df.lastTradePrice.values\n",
    "\n",
    "a = call_df.strike.values\n",
    "b = np.array([((i-pd.to_datetime('today')).days +2)/365 for i in pd.to_datetime(call_df['expiration'].values).tolist()])\n",
    "strike_and_mat = np.vstack((a, b)).T\n",
    "\n",
    "def SqErr(x):\n",
    "    v0, kappa, theta, sigma, rho = [param for param in x]\n",
    "    \n",
    "    MC_prices = np.array([heston_price_quantpy(S0, i[0], v0, kappa, theta, sigma, rho, 0, i[1], r)\\\n",
    "                          for i in strike_and_mat])\n",
    "    \n",
    "    err = np.sum( (P-MC_prices)**2 /len(P) )\n",
    "          \n",
    "    return err\n",
    "\n",
    "result = minimize(SqErr, x0, tol = 1e-3, method='SLSQP',options={'maxiter': 1e4 }, bounds=bnds)"
   ]
  },
  {
   "cell_type": "code",
   "execution_count": 11,
   "id": "eae47e69",
   "metadata": {
    "tags": []
   },
   "outputs": [
    {
     "data": {
      "text/plain": [
       "array([ 0.3       ,  2.5648047 ,  0.3       ,  0.04775747, -0.00336758])"
      ]
     },
     "execution_count": 11,
     "metadata": {},
     "output_type": "execute_result"
    }
   ],
   "source": [
    "result.x"
   ]
  },
  {
   "cell_type": "code",
   "execution_count": null,
   "id": "fc516327",
   "metadata": {},
   "outputs": [],
   "source": []
  }
 ],
 "metadata": {
  "kernelspec": {
   "display_name": "Python 3 (ipykernel)",
   "language": "python",
   "name": "python3"
  },
  "language_info": {
   "codemirror_mode": {
    "name": "ipython",
    "version": 3
   },
   "file_extension": ".py",
   "mimetype": "text/x-python",
   "name": "python",
   "nbconvert_exporter": "python",
   "pygments_lexer": "ipython3",
   "version": "3.10.8"
  }
 },
 "nbformat": 4,
 "nbformat_minor": 5
}
