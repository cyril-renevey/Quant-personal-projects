{
 "cells": [
  {
   "cell_type": "code",
   "execution_count": 1,
   "id": "c9b05c36",
   "metadata": {},
   "outputs": [],
   "source": [
    "import numpy as np\n",
    "import pandas as pd\n",
    "import scipy.stats as stats\n",
    "import pylab\n",
    "import yfinance as yf\n",
    "import datetime as dt\n",
    "import matplotlib.pyplot as plt\n",
    "from scipy.stats import norm\n",
    "import statsmodels.api as sm"
   ]
  },
  {
   "cell_type": "markdown",
   "id": "50b03ad2",
   "metadata": {},
   "source": [
    "Dowload hourly price of a stock and daily SNB rates"
   ]
  },
  {
   "cell_type": "code",
   "execution_count": null,
   "id": "adfdf542",
   "metadata": {
    "scrolled": true
   },
   "outputs": [
    {
     "name": "stdout",
     "output_type": "stream",
     "text": [
      "[*********************100%***********************]  1 of 1 completed\n"
     ]
    },
    {
     "data": {
      "text/plain": [
       "<AxesSubplot:xlabel='Datetime'>"
      ]
     },
     "execution_count": 2,
     "metadata": {},
     "output_type": "execute_result"
    }
   ],
   "source": [
    "SNB_data = pd.read_excel('current_interest_rates.xlsx',index_col=0)\n",
    "SNB_data=SNB_data.sort_index().SNBLZ\n",
    "SNB_data.index=SNB_data.index.tz_localize(None)\n",
    "\n",
    "data = yf.download(tickers='UBSG.SW',start=SNB_data.index[0],end=SNB_data.index[-1], interval='1h')\n",
    "close = data.Close\n",
    "close.plot()"
   ]
  },
  {
   "cell_type": "markdown",
   "id": "55231ccb",
   "metadata": {},
   "source": [
    "Find the time series of daily returns and concat with SNB_data to match the days"
   ]
  },
  {
   "cell_type": "code",
   "execution_count": null,
   "id": "452a48b0",
   "metadata": {},
   "outputs": [],
   "source": [
    "R = np.log(np.exp(1+close.pct_change().dropna()).resample('d').mean())-1\n",
    "R.index=R.index.tz_localize(None)\n",
    "\n",
    "full_data = pd.concat([R, SNB_data], axis=1).dropna()"
   ]
  },
  {
   "cell_type": "markdown",
   "id": "0b95b62f",
   "metadata": {},
   "source": [
    "find OLS estimator"
   ]
  },
  {
   "cell_type": "code",
   "execution_count": null,
   "id": "f8ff5003",
   "metadata": {},
   "outputs": [],
   "source": [
    "Y = full_data.Close.values[1:]\n",
    "X = np.ones((len(Y),3))\n",
    "X[:,1] = full_data.Close.values[:-1]\n",
    "X[:,2] = full_data.SNBLZ.values[:-1]\n",
    "\n",
    "X = np.matrix(X)\n",
    "Y = np.matrix(Y).transpose()\n",
    "\n",
    "np.linalg.inv(X.transpose()*X)*X.transpose()*Y"
   ]
  },
  {
   "cell_type": "code",
   "execution_count": null,
   "id": "d3e8ba8c",
   "metadata": {},
   "outputs": [],
   "source": [
    "Y = full_data.Close.values[1:]\n",
    "X = np.ones((len(Y),3))\n",
    "X[:,1] = full_data.Close.values[:-1]\n",
    "X[:,2] = full_data.SNBLZ.values[:-1]\n",
    "\n",
    "model = sm.OLS(Y, X).fit()\n",
    "\n",
    "#view model summary\n",
    "print(model.summary())"
   ]
  },
  {
   "cell_type": "code",
   "execution_count": null,
   "id": "c6062775",
   "metadata": {},
   "outputs": [],
   "source": []
  }
 ],
 "metadata": {
  "kernelspec": {
   "display_name": "Python 3 (ipykernel)",
   "language": "python",
   "name": "python3"
  },
  "language_info": {
   "codemirror_mode": {
    "name": "ipython",
    "version": 3
   },
   "file_extension": ".py",
   "mimetype": "text/x-python",
   "name": "python",
   "nbconvert_exporter": "python",
   "pygments_lexer": "ipython3",
   "version": "3.10.2"
  }
 },
 "nbformat": 4,
 "nbformat_minor": 5
}
