{
 "cells": [
  {
   "cell_type": "code",
   "execution_count": 1,
   "id": "c9b05c36",
   "metadata": {},
   "outputs": [],
   "source": [
    "import numpy as np\n",
    "import pandas as pd\n",
    "import scipy.stats as stats\n",
    "import pylab\n",
    "import yfinance as yf\n",
    "import datetime as dt\n",
    "import matplotlib.pyplot as plt\n",
    "from scipy.stats import norm\n",
    "import statsmodels.api as sm"
   ]
  },
  {
   "cell_type": "markdown",
   "id": "50b03ad2",
   "metadata": {},
   "source": [
    "Dowload SNB rates and gov bonds 10Y"
   ]
  },
  {
   "cell_type": "code",
   "execution_count": 14,
   "id": "adfdf542",
   "metadata": {
    "scrolled": true
   },
   "outputs": [
    {
     "data": {
      "text/html": [
       "<div>\n",
       "<style scoped>\n",
       "    .dataframe tbody tr th:only-of-type {\n",
       "        vertical-align: middle;\n",
       "    }\n",
       "\n",
       "    .dataframe tbody tr th {\n",
       "        vertical-align: top;\n",
       "    }\n",
       "\n",
       "    .dataframe thead th {\n",
       "        text-align: right;\n",
       "    }\n",
       "</style>\n",
       "<table border=\"1\" class=\"dataframe\">\n",
       "  <thead>\n",
       "    <tr style=\"text-align: right;\">\n",
       "      <th></th>\n",
       "      <th>SNBLZ</th>\n",
       "      <th>R10</th>\n",
       "    </tr>\n",
       "  </thead>\n",
       "  <tbody>\n",
       "    <tr>\n",
       "      <th>2022-07-27</th>\n",
       "      <td>-0.25</td>\n",
       "      <td>0.548</td>\n",
       "    </tr>\n",
       "    <tr>\n",
       "      <th>2022-07-28</th>\n",
       "      <td>-0.25</td>\n",
       "      <td>0.537</td>\n",
       "    </tr>\n",
       "    <tr>\n",
       "      <th>2022-07-29</th>\n",
       "      <td>-0.25</td>\n",
       "      <td>0.520</td>\n",
       "    </tr>\n",
       "    <tr>\n",
       "      <th>2022-08-02</th>\n",
       "      <td>-0.25</td>\n",
       "      <td>0.372</td>\n",
       "    </tr>\n",
       "    <tr>\n",
       "      <th>2022-08-03</th>\n",
       "      <td>-0.25</td>\n",
       "      <td>0.474</td>\n",
       "    </tr>\n",
       "    <tr>\n",
       "      <th>...</th>\n",
       "      <td>...</td>\n",
       "      <td>...</td>\n",
       "    </tr>\n",
       "    <tr>\n",
       "      <th>2023-07-20</th>\n",
       "      <td>1.75</td>\n",
       "      <td>0.894</td>\n",
       "    </tr>\n",
       "    <tr>\n",
       "      <th>2023-07-21</th>\n",
       "      <td>1.75</td>\n",
       "      <td>0.920</td>\n",
       "    </tr>\n",
       "    <tr>\n",
       "      <th>2023-07-24</th>\n",
       "      <td>1.75</td>\n",
       "      <td>0.881</td>\n",
       "    </tr>\n",
       "    <tr>\n",
       "      <th>2023-07-25</th>\n",
       "      <td>1.75</td>\n",
       "      <td>0.901</td>\n",
       "    </tr>\n",
       "    <tr>\n",
       "      <th>2023-07-26</th>\n",
       "      <td>1.75</td>\n",
       "      <td>0.908</td>\n",
       "    </tr>\n",
       "  </tbody>\n",
       "</table>\n",
       "<p>253 rows × 2 columns</p>\n",
       "</div>"
      ],
      "text/plain": [
       "            SNBLZ    R10\n",
       "2022-07-27  -0.25  0.548\n",
       "2022-07-28  -0.25  0.537\n",
       "2022-07-29  -0.25  0.520\n",
       "2022-08-02  -0.25  0.372\n",
       "2022-08-03  -0.25  0.474\n",
       "...           ...    ...\n",
       "2023-07-20   1.75  0.894\n",
       "2023-07-21   1.75  0.920\n",
       "2023-07-24   1.75  0.881\n",
       "2023-07-25   1.75  0.901\n",
       "2023-07-26   1.75  0.908\n",
       "\n",
       "[253 rows x 2 columns]"
      ]
     },
     "execution_count": 14,
     "metadata": {},
     "output_type": "execute_result"
    }
   ],
   "source": [
    "SNB_data = pd.read_excel('current_interest_rates.xlsx',index_col=0)\n",
    "SNB_data=SNB_data.sort_index()[['SNBLZ','R10']]\n",
    "SNB_data.index=SNB_data.index.tz_localize(None)"
   ]
  },
  {
   "cell_type": "markdown",
   "id": "0b95b62f",
   "metadata": {},
   "source": [
    "find OLS estimator"
   ]
  },
  {
   "cell_type": "code",
   "execution_count": 15,
   "id": "f8ff5003",
   "metadata": {},
   "outputs": [
    {
     "data": {
      "text/plain": [
       "matrix([[ 0.05112911],\n",
       "        [ 0.95703429],\n",
       "        [-0.00386804]])"
      ]
     },
     "execution_count": 15,
     "metadata": {},
     "output_type": "execute_result"
    }
   ],
   "source": [
    "Y = SNB_data.R10.values[1:]\n",
    "X = np.ones((len(Y),3))\n",
    "X[:,1] = SNB_data.R10.values[:-1]\n",
    "X[:,2] = SNB_data.SNBLZ.values[:-1]\n",
    "\n",
    "X = np.matrix(X)\n",
    "Y = np.matrix(Y).transpose()\n",
    "\n",
    "np.linalg.inv(X.transpose()*X)*X.transpose()*Y"
   ]
  },
  {
   "cell_type": "code",
   "execution_count": 17,
   "id": "d3e8ba8c",
   "metadata": {},
   "outputs": [
    {
     "name": "stdout",
     "output_type": "stream",
     "text": [
      "                            OLS Regression Results                            \n",
      "==============================================================================\n",
      "Dep. Variable:                      y   R-squared:                       0.926\n",
      "Model:                            OLS   Adj. R-squared:                  0.926\n",
      "Method:                 Least Squares   F-statistic:                     1560.\n",
      "Date:                Wed, 26 Jul 2023   Prob (F-statistic):          1.40e-141\n",
      "Time:                        16:11:45   Log-Likelihood:                 327.86\n",
      "No. Observations:                 252   AIC:                            -649.7\n",
      "Df Residuals:                     249   BIC:                            -639.1\n",
      "Df Model:                           2                                         \n",
      "Covariance Type:            nonrobust                                         \n",
      "==============================================================================\n",
      "                 coef    std err          t      P>|t|      [0.025      0.975]\n",
      "------------------------------------------------------------------------------\n",
      "const          0.0511      0.019      2.705      0.007       0.014       0.088\n",
      "x1             0.9570      0.018     53.715      0.000       0.922       0.992\n",
      "x2            -0.0039      0.007     -0.566      0.572      -0.017       0.010\n",
      "==============================================================================\n",
      "Omnibus:                       28.435   Durbin-Watson:                   2.070\n",
      "Prob(Omnibus):                  0.000   Jarque-Bera (JB):               54.117\n",
      "Skew:                          -0.601   Prob(JB):                     1.77e-12\n",
      "Kurtosis:                       4.926   Cond. No.                         10.7\n",
      "==============================================================================\n",
      "\n",
      "Notes:\n",
      "[1] Standard Errors assume that the covariance matrix of the errors is correctly specified.\n"
     ]
    }
   ],
   "source": [
    "Y = SNB_data.R10.values[1:]\n",
    "X = np.ones((len(Y),3))\n",
    "X[:,1] = SNB_data.R10.values[:-1]\n",
    "X[:,2] = SNB_data.SNBLZ.values[:-1]\n",
    "\n",
    "model = sm.OLS(Y, X).fit()\n",
    "\n",
    "#view model summary\n",
    "print(model.summary())"
   ]
  },
  {
   "cell_type": "code",
   "execution_count": null,
   "id": "c6062775",
   "metadata": {},
   "outputs": [],
   "source": []
  }
 ],
 "metadata": {
  "kernelspec": {
   "display_name": "Python 3 (ipykernel)",
   "language": "python",
   "name": "python3"
  },
  "language_info": {
   "codemirror_mode": {
    "name": "ipython",
    "version": 3
   },
   "file_extension": ".py",
   "mimetype": "text/x-python",
   "name": "python",
   "nbconvert_exporter": "python",
   "pygments_lexer": "ipython3",
   "version": "3.10.2"
  }
 },
 "nbformat": 4,
 "nbformat_minor": 5
}
